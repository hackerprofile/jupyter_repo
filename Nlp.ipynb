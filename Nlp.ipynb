{
  "nbformat": 4,
  "nbformat_minor": 0,
  "metadata": {
    "colab": {
      "name": "Nlp.ipynb",
      "version": "0.3.2",
      "provenance": []
    },
    "kernelspec": {
      "display_name": "Python 3",
      "language": "python",
      "name": "python3"
    }
  },
  "cells": [
    {
      "metadata": {
        "id": "zJC5SFPdp0ot",
        "colab_type": "code",
        "colab": {}
      },
      "cell_type": "code",
      "source": [
        "#### Natural language processing\n",
        "\n",
        "import nltk as nltk\n",
        "import spacy as sp"
      ],
      "execution_count": 0,
      "outputs": []
    },
    {
      "metadata": {
        "id": "60ROmZETqKLs",
        "colab_type": "code",
        "colab": {}
      },
      "cell_type": "code",
      "source": [
        "### named entity extractor\n",
        "\n",
        "\n",
        "sentence = \"Be it “open borders,” Medicare, Veterans Choice or job creation, President Trump has recycled these 10 inaccurate talking points at more than 20 campaign rallies for Republican candidates. We fact-checked them.\""
      ],
      "execution_count": 0,
      "outputs": []
    },
    {
      "metadata": {
        "id": "piRxC8piqUCS",
        "colab_type": "code",
        "colab": {}
      },
      "cell_type": "code",
      "source": [
        "#### puntuation removal or regular expression removal:\n",
        "\n",
        "import re \n",
        "\n",
        "reg = re.compile(r\"Venugopal\")"
      ],
      "execution_count": 0,
      "outputs": []
    },
    {
      "metadata": {
        "id": "14vNt13Vs1tO",
        "colab_type": "code",
        "colab": {
          "base_uri": "https://localhost:8080/",
          "height": 35
        },
        "outputId": "51328e72-6101-43de-c0bb-6c9718553373"
      },
      "cell_type": "code",
      "source": [
        "\n",
        "re.search(pattern = reg, string='This is Venugopal going to home casa grande very late today')"
      ],
      "execution_count": 22,
      "outputs": [
        {
          "output_type": "execute_result",
          "data": {
            "text/plain": [
              "<_sre.SRE_Match object; span=(8, 17), match='Venugopal'>"
            ]
          },
          "metadata": {
            "tags": []
          },
          "execution_count": 22
        }
      ]
    },
    {
      "metadata": {
        "id": "YQE3tCbcGW8-",
        "colab_type": "code",
        "colab": {
          "base_uri": "https://localhost:8080/",
          "height": 35
        },
        "outputId": "d26b8fa7-74de-4b6c-c154-55284c0c57ee"
      },
      "cell_type": "code",
      "source": [
        "reg1 = re.compile(r\"abc\")\n",
        "\n",
        "print(re.match(pattern = reg1, string = \"abcvenugopal is  in the office\").span())\n"
      ],
      "execution_count": 32,
      "outputs": [
        {
          "output_type": "stream",
          "text": [
            "(0, 3)\n"
          ],
          "name": "stdout"
        }
      ]
    },
    {
      "metadata": {
        "id": "MKD9lq7vJvAA",
        "colab_type": "code",
        "colab": {}
      },
      "cell_type": "code",
      "source": [
        ""
      ],
      "execution_count": 0,
      "outputs": []
    }
  ]
}